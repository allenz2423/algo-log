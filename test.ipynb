{
 "cells": [
  {
   "cell_type": "code",
   "execution_count": null,
   "source": [
    "# Prerequisites\n",
    "from IPython.display import Javascript, display\n",
    "\n",
    "display(Javascript(\"\"\""
   ],
   "outputs": [],
   "metadata": {}
  },
  {
   "cell_type": "markdown",
   "source": [
    "The code above is to allow Javascript to run in this Jupyter Notebook"
   ],
   "metadata": {}
  },
  {
   "cell_type": "code",
   "execution_count": null,
   "source": [
    "function isValidWalk(walk) {\n",
    "    //insert brilliant code here\n",
    "    const coord = [0,0]\n",
    "    var coords = [0,0]"
   ],
   "outputs": [],
   "metadata": {}
  },
  {
   "cell_type": "markdown",
   "source": [
    "This creates a function and creates 2 variables. One as a reference and one is changable."
   ],
   "metadata": {}
  },
  {
   "cell_type": "code",
   "execution_count": null,
   "source": [
    "        map.set(\"n\" , [0,1])\n",
    "        map.set(\"s\" , [0,-1])\n",
    "        map.set(\"e\" , [1,-1])\n",
    "        map.set(\"w\" , [1,1])"
   ],
   "outputs": [],
   "metadata": {}
  },
  {
   "cell_type": "markdown",
   "source": [
    "This sets a value for each direction the person will travel in"
   ],
   "metadata": {}
  },
  {
   "cell_type": "code",
   "execution_count": null,
   "source": [
    "    if(walk.length == 10) {\n",
    "      for(let i = 0; i < walk.length; i++) {\n",
    "        coords[map.get(walk[i])[0]] += map.get(walk[i])[1];\n",
    "        console.log(coords)\n",
    "      }\n",
    "    } else {\n",
    "      return false\n",
    "    }\n",
    "        return coords.toString() == coord.toString()\n",
    "  }"
   ],
   "outputs": [],
   "metadata": {}
  },
  {
   "cell_type": "markdown",
   "source": [
    "This piece of code checks if the argument is exactly 10, if it is, then run the loop."
   ],
   "metadata": {}
  },
  {
   "cell_type": "code",
   "execution_count": null,
   "source": [
    "console.log(isValidWalk(['n','s','n','s','n','s','n','s','n','s']),!isValidWalk(['w','e','w','e','w','e','w','e','w','e','w','e']),!isValidWalk(['w']),!isValidWalk(['n','n','n','s','n','s','n','s','n','s']))\n",
    "\"\"\"))"
   ],
   "outputs": [],
   "metadata": {}
  },
  {
   "cell_type": "markdown",
   "source": [
    "Test cases"
   ],
   "metadata": {}
  }
 ],
 "metadata": {
  "orig_nbformat": 4,
  "language_info": {
   "name": "plaintext"
  }
 },
 "nbformat": 4,
 "nbformat_minor": 2
}